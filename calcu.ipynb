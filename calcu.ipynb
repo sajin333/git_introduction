{
 "cells": [
  {
   "cell_type": "code",
   "execution_count": 2,
   "metadata": {},
   "outputs": [
    {
     "name": "stdout",
     "output_type": "stream",
     "text": [
      "5\n",
      "6\n"
     ]
    }
   ],
   "source": [
    "number_1 = int(input('Enter your first number: '))\n",
    "number_2 = int(input('Enter your second number: '))\n",
    "print(number_1)\n",
    "print(number_2)"
   ]
  },
  {
   "cell_type": "code",
   "execution_count": 3,
   "metadata": {},
   "outputs": [
    {
     "name": "stdout",
     "output_type": "stream",
     "text": [
      "5 + 6 = \n",
      "11\n"
     ]
    }
   ],
   "source": [
    "# Addition\n",
    "print('{} + {} = '.format(number_1, number_2))\n",
    "print(number_1 + number_2)"
   ]
  },
  {
   "cell_type": "code",
   "execution_count": 4,
   "metadata": {},
   "outputs": [
    {
     "name": "stdout",
     "output_type": "stream",
     "text": [
      "5 - 6 = \n",
      "-1\n"
     ]
    }
   ],
   "source": [
    "# Subtraction\n",
    "print('{} - {} = '.format(number_1, number_2))\n",
    "print(number_1 - number_2)"
   ]
  },
  {
   "cell_type": "code",
   "execution_count": 5,
   "metadata": {},
   "outputs": [
    {
     "name": "stdout",
     "output_type": "stream",
     "text": [
      "5 * 6 = \n",
      "30\n"
     ]
    }
   ],
   "source": [
    "# Multiplication\n",
    "print('{} * {} = '.format(number_1, number_2))\n",
    "print(number_1 * number_2)"
   ]
  },
  {
   "cell_type": "code",
   "execution_count": 6,
   "metadata": {},
   "outputs": [
    {
     "name": "stdout",
     "output_type": "stream",
     "text": [
      "5 / 6 = \n",
      "0.8333333333333334\n"
     ]
    }
   ],
   "source": [
    "# Division\n",
    "print('{} / {} = '.format(number_1, number_2))\n",
    "print(number_1 / number_2)"
   ]
  },
  {
   "cell_type": "markdown",
   "metadata": {},
   "source": [
    "code changes in branch1"
   ]
  }
 ],
 "metadata": {
  "kernelspec": {
   "display_name": "Python 3.9.12 ('base')",
   "language": "python",
   "name": "python3"
  },
  "language_info": {
   "codemirror_mode": {
    "name": "ipython",
    "version": 3
   },
   "file_extension": ".py",
   "mimetype": "text/x-python",
   "name": "python",
   "nbconvert_exporter": "python",
   "pygments_lexer": "ipython3",
   "version": "3.9.12"
  },
  "orig_nbformat": 4,
  "vscode": {
   "interpreter": {
    "hash": "44593f74dd803c43163d27040e0a600ecec6d60f024d4607c0df2138577b6578"
   }
  }
 },
 "nbformat": 4,
 "nbformat_minor": 2
}
